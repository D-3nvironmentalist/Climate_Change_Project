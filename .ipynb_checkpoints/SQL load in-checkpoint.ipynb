{
 "cells": [
  {
   "cell_type": "code",
   "execution_count": null,
   "metadata": {},
   "outputs": [],
   "source": [
    "#dependencies\n",
    "import pandas as pd\n",
    "from sqlalchemy import create_engine"
   ]
  },
  {
   "cell_type": "code",
   "execution_count": null,
   "metadata": {},
   "outputs": [],
   "source": [
    "#importing dataset 1\n",
    "csv_file = \"static/data/carbon_dioxide_dataset.csv\"\n",
    "carbon_dioxide_df = pd.read_csv(csv_file)\n",
    "carbon_dioxide_df.head()"
   ]
  },
  {
   "cell_type": "code",
   "execution_count": null,
   "metadata": {},
   "outputs": [],
   "source": [
    "#importing dataset 2\n",
    "csv_file = \"static/data/global sealevel.csv\"\n",
    "sea_level_df = pd.read_csv(csv_file)\n",
    "sea_level_df.head()"
   ]
  },
  {
   "cell_type": "code",
   "execution_count": null,
   "metadata": {},
   "outputs": [],
   "source": [
    "#importing dataset 3\n",
    "csv_file = \"static/data/Zonal_annual_means.csv\"\n",
    "zonal_annual_means_df = pd.read_csv(csv_file)\n",
    "zonal_annual_means_df.head()"
   ]
  },
  {
   "cell_type": "code",
   "execution_count": null,
   "metadata": {},
   "outputs": [],
   "source": [
    "#importing dataset 4\n",
    "csv_file = \"static/data/Global_Temp_Anomalies.csv\"\n"
   ]
  },
  {
   "cell_type": "code",
   "execution_count": null,
   "metadata": {},
   "outputs": [],
   "source": [
    "#transforming dataset 1\n",
    "new_carbon_dioxide_df = carbon_dioxide_df.rename(columns={\"average\": \"Average\", \"trend_season _corr)\": \"trend_season_corr\"})\n",
    "new_carbon_dioxide_df.head()"
   ]
  },
  {
   "cell_type": "code",
   "execution_count": null,
   "metadata": {},
   "outputs": [],
   "source": [
    "carbon_dioxide_df = new_carbon_dioxide_df[['Year', 'Months', 'interpolated', 'Average', 'trend_season_corr']]\n",
    "carbon_dioxide_df.head()\n",
    "# carbon_dioxide_df.dtypes"
   ]
  },
  {
   "cell_type": "code",
   "execution_count": null,
   "metadata": {},
   "outputs": [],
   "source": [
    "#transforming dataset 2\n",
    "\n",
    "# new_sea_level_df = sea_level_df.rename(columns={\"average \": \"Average\"})\n",
    "\n",
    "sea_level_df = sea_level_df[['year+fraction of year (mid-cycle)', 'number of observations', \n",
    "                                 'GMSL (Global Isostatic Adjustment (GIA) not applied) variation (mm) with respect to 20-year TOPEX/Jason collinear mean reference',\n",
    "                                'standard deviation of GMSL (GIA not applied) variation estimate (mm)',\n",
    "                                'standard deviation of GMSL (GIA applied) variation estimate (mm)',\n",
    "                                'GMSL (Global Isostatic Adjustment (GIA) applied) variation (mm) )  with respect to 20-year mean'\n",
    "                                ]]\n",
    "sea_level_df\n",
    "\n"
   ]
  },
  {
   "cell_type": "code",
   "execution_count": null,
   "metadata": {},
   "outputs": [],
   "source": [
    "new_sea_level_df = sea_level_df.rename(columns={'year+fraction of year (mid-cycle)': 'Year', \n",
    "                                                'number of observations': 'Number_of_Observations',\n",
    "                                               'GMSL (Global Isostatic Adjustment (GIA) not applied) variation (mm) with respect to 20-year TOPEX/Jason collinear mean reference': 'GMSL_Not_Applied',\n",
    "                                               'standard deviation of GMSL (GIA not applied) variation estimate (mm)': 'StDev_of_GMSL_Not_Applied',\n",
    "                                               'standard deviation of GMSL (GIA applied) variation estimate (mm)': 'StDev_of_GMSL_Applied',\n",
    "                                               'GMSL (Global Isostatic Adjustment (GIA) applied) variation (mm) )  with respect to 20-year mean': 'GMSL_Applied'})\n",
    "\n",
    "new_sea_level_df"
   ]
  },
  {
   "cell_type": "code",
   "execution_count": null,
   "metadata": {},
   "outputs": [],
   "source": [
    "arctic_ice_csv = \"assets/data/arcticiceminimum.csv\"\n",
    "arctic_ice_df = pd.read_csv(arctic_ice_csv)\n",
    "arctic_ice_df"
   ]
  },
  {
   "cell_type": "code",
   "execution_count": null,
   "metadata": {},
   "outputs": [],
   "source": [
    "new_arctic_df = arctic_ice_df[['year', ' extent', '   area']]\n",
    "new_arctic_df.head()"
   ]
  },
  {
   "cell_type": "code",
   "execution_count": null,
   "metadata": {},
   "outputs": [],
   "source": [
    "new_arctic_df = new_arctic_df.rename(columns={'year': 'Year', ' extent': 'Extent', '   area': 'Area'})\n",
    "new_arctic_df.head()"
   ]
  },
  {
   "cell_type": "code",
   "execution_count": null,
   "metadata": {},
   "outputs": [],
   "source": [
    "rds_connection_string = \"postgres:postgres@localhost:5432/climateChange\"\n",
    "engine = create_engine(f'postgresql://{rds_connection_string}')"
   ]
  },
  {
   "cell_type": "code",
   "execution_count": null,
   "metadata": {},
   "outputs": [],
   "source": [
    "carbon_dioxide_df.columns"
   ]
  },
  {
   "cell_type": "code",
   "execution_count": null,
   "metadata": {},
   "outputs": [],
   "source": [
    "carbon_dioxide_df.to_sql(name='Carbon_Dioxide', con=engine, if_exists='replace', index=False)\n",
    "new_sea_level_df.to_sql(name='Sea_Level', con=engine, if_exists='replace', index=False)\n",
    "zonal_annual_means_df.to_sql(name='Zonal_Annual_Means', con=engine, if_exists='replace', index=False)\n",
    "new_arctic_df.to_sql(name='Arctic_Ice', con=engine, if_exists='replace', index=False)"
   ]
  },
  {
   "cell_type": "code",
   "execution_count": null,
   "metadata": {},
   "outputs": [],
   "source": [
    "carbon_dioxide_df.count()"
   ]
  },
  {
   "cell_type": "code",
   "execution_count": null,
   "metadata": {},
   "outputs": [],
   "source": []
  }
 ],
 "metadata": {
  "kernelspec": {
   "display_name": "Python 3",
   "language": "python",
   "name": "python3"
  },
  "language_info": {
   "codemirror_mode": {
    "name": "ipython",
    "version": 3
   },
   "file_extension": ".py",
   "mimetype": "text/x-python",
   "name": "python",
   "nbconvert_exporter": "python",
   "pygments_lexer": "ipython3",
   "version": "3.7.4"
  }
 },
 "nbformat": 4,
 "nbformat_minor": 2
}
